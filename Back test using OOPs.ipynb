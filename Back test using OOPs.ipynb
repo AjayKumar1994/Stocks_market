{
 "cells": [
  {
   "cell_type": "code",
   "execution_count": 2,
   "id": "ece7dd73",
   "metadata": {},
   "outputs": [],
   "source": [
    "import yfinance as yf\n",
    "import pandas as pd\n",
    "import numpy as np\n",
    "import ta\n",
    "import matplotlib.pyplot as plt"
   ]
  },
  {
   "cell_type": "code",
   "execution_count": 3,
   "id": "aeff15ee",
   "metadata": {},
   "outputs": [],
   "source": [
    "class Backtest:\n",
    "    \n",
    "    def __init__(self, symbol):\n",
    "        self.symbol = symbol\n",
    "        self.df = yf.download(self.symbol, start='2019-01-01')\n",
    "        if self.df.empty:\n",
    "            print(\"No data pulled\")"
   ]
  },
  {
   "cell_type": "code",
   "execution_count": 4,
   "id": "ee9827e4",
   "metadata": {},
   "outputs": [],
   "source": [
    "instance = Backtest"
   ]
  },
  {
   "cell_type": "code",
   "execution_count": 5,
   "id": "d100580e",
   "metadata": {},
   "outputs": [
    {
     "data": {
      "text/plain": [
       "__main__.Backtest"
      ]
     },
     "execution_count": 5,
     "metadata": {},
     "output_type": "execute_result"
    }
   ],
   "source": [
    "instance"
   ]
  },
  {
   "cell_type": "code",
   "execution_count": 6,
   "id": "b445f800",
   "metadata": {},
   "outputs": [
    {
     "name": "stdout",
     "output_type": "stream",
     "text": [
      "[*********************100%***********************]  1 of 1 completed\n"
     ]
    }
   ],
   "source": [
    "instance = Backtest('SBIN.NS')"
   ]
  },
  {
   "cell_type": "code",
   "execution_count": 8,
   "id": "384b1bd3",
   "metadata": {},
   "outputs": [
    {
     "data": {
      "text/html": [
       "<div>\n",
       "<style scoped>\n",
       "    .dataframe tbody tr th:only-of-type {\n",
       "        vertical-align: middle;\n",
       "    }\n",
       "\n",
       "    .dataframe tbody tr th {\n",
       "        vertical-align: top;\n",
       "    }\n",
       "\n",
       "    .dataframe thead th {\n",
       "        text-align: right;\n",
       "    }\n",
       "</style>\n",
       "<table border=\"1\" class=\"dataframe\">\n",
       "  <thead>\n",
       "    <tr style=\"text-align: right;\">\n",
       "      <th></th>\n",
       "      <th>Open</th>\n",
       "      <th>High</th>\n",
       "      <th>Low</th>\n",
       "      <th>Close</th>\n",
       "      <th>Adj Close</th>\n",
       "      <th>Volume</th>\n",
       "    </tr>\n",
       "    <tr>\n",
       "      <th>Date</th>\n",
       "      <th></th>\n",
       "      <th></th>\n",
       "      <th></th>\n",
       "      <th></th>\n",
       "      <th></th>\n",
       "      <th></th>\n",
       "    </tr>\n",
       "  </thead>\n",
       "  <tbody>\n",
       "    <tr>\n",
       "      <th>2019-01-01</th>\n",
       "      <td>297.500000</td>\n",
       "      <td>300.700012</td>\n",
       "      <td>293.850006</td>\n",
       "      <td>299.600006</td>\n",
       "      <td>292.297607</td>\n",
       "      <td>11837127</td>\n",
       "    </tr>\n",
       "    <tr>\n",
       "      <th>2019-01-02</th>\n",
       "      <td>299.100006</td>\n",
       "      <td>302.500000</td>\n",
       "      <td>293.100006</td>\n",
       "      <td>293.899994</td>\n",
       "      <td>286.736511</td>\n",
       "      <td>25559853</td>\n",
       "    </tr>\n",
       "    <tr>\n",
       "      <th>2019-01-03</th>\n",
       "      <td>295.000000</td>\n",
       "      <td>295.549988</td>\n",
       "      <td>290.100006</td>\n",
       "      <td>291.100006</td>\n",
       "      <td>284.004791</td>\n",
       "      <td>17548347</td>\n",
       "    </tr>\n",
       "    <tr>\n",
       "      <th>2019-01-04</th>\n",
       "      <td>292.100006</td>\n",
       "      <td>299.000000</td>\n",
       "      <td>291.500000</td>\n",
       "      <td>297.649994</td>\n",
       "      <td>290.395111</td>\n",
       "      <td>19514041</td>\n",
       "    </tr>\n",
       "    <tr>\n",
       "      <th>2019-01-07</th>\n",
       "      <td>301.049988</td>\n",
       "      <td>301.500000</td>\n",
       "      <td>295.200012</td>\n",
       "      <td>296.299988</td>\n",
       "      <td>289.078033</td>\n",
       "      <td>14579399</td>\n",
       "    </tr>\n",
       "    <tr>\n",
       "      <th>...</th>\n",
       "      <td>...</td>\n",
       "      <td>...</td>\n",
       "      <td>...</td>\n",
       "      <td>...</td>\n",
       "      <td>...</td>\n",
       "      <td>...</td>\n",
       "    </tr>\n",
       "    <tr>\n",
       "      <th>2022-08-26</th>\n",
       "      <td>523.799988</td>\n",
       "      <td>529.500000</td>\n",
       "      <td>522.200012</td>\n",
       "      <td>523.799988</td>\n",
       "      <td>523.799988</td>\n",
       "      <td>12855886</td>\n",
       "    </tr>\n",
       "    <tr>\n",
       "      <th>2022-08-29</th>\n",
       "      <td>511.299988</td>\n",
       "      <td>517.000000</td>\n",
       "      <td>508.750000</td>\n",
       "      <td>514.849976</td>\n",
       "      <td>514.849976</td>\n",
       "      <td>9421339</td>\n",
       "    </tr>\n",
       "    <tr>\n",
       "      <th>2022-08-30</th>\n",
       "      <td>518.200012</td>\n",
       "      <td>532.500000</td>\n",
       "      <td>517.950012</td>\n",
       "      <td>531.250000</td>\n",
       "      <td>531.250000</td>\n",
       "      <td>14835308</td>\n",
       "    </tr>\n",
       "    <tr>\n",
       "      <th>2022-09-01</th>\n",
       "      <td>522.250000</td>\n",
       "      <td>540.900024</td>\n",
       "      <td>522.250000</td>\n",
       "      <td>533.299988</td>\n",
       "      <td>533.299988</td>\n",
       "      <td>16670228</td>\n",
       "    </tr>\n",
       "    <tr>\n",
       "      <th>2022-09-02</th>\n",
       "      <td>537.000000</td>\n",
       "      <td>537.849976</td>\n",
       "      <td>531.250000</td>\n",
       "      <td>536.700012</td>\n",
       "      <td>536.700012</td>\n",
       "      <td>10017930</td>\n",
       "    </tr>\n",
       "  </tbody>\n",
       "</table>\n",
       "<p>908 rows × 6 columns</p>\n",
       "</div>"
      ],
      "text/plain": [
       "                  Open        High         Low       Close   Adj Close  \\\n",
       "Date                                                                     \n",
       "2019-01-01  297.500000  300.700012  293.850006  299.600006  292.297607   \n",
       "2019-01-02  299.100006  302.500000  293.100006  293.899994  286.736511   \n",
       "2019-01-03  295.000000  295.549988  290.100006  291.100006  284.004791   \n",
       "2019-01-04  292.100006  299.000000  291.500000  297.649994  290.395111   \n",
       "2019-01-07  301.049988  301.500000  295.200012  296.299988  289.078033   \n",
       "...                ...         ...         ...         ...         ...   \n",
       "2022-08-26  523.799988  529.500000  522.200012  523.799988  523.799988   \n",
       "2022-08-29  511.299988  517.000000  508.750000  514.849976  514.849976   \n",
       "2022-08-30  518.200012  532.500000  517.950012  531.250000  531.250000   \n",
       "2022-09-01  522.250000  540.900024  522.250000  533.299988  533.299988   \n",
       "2022-09-02  537.000000  537.849976  531.250000  536.700012  536.700012   \n",
       "\n",
       "              Volume  \n",
       "Date                  \n",
       "2019-01-01  11837127  \n",
       "2019-01-02  25559853  \n",
       "2019-01-03  17548347  \n",
       "2019-01-04  19514041  \n",
       "2019-01-07  14579399  \n",
       "...              ...  \n",
       "2022-08-26  12855886  \n",
       "2022-08-29   9421339  \n",
       "2022-08-30  14835308  \n",
       "2022-09-01  16670228  \n",
       "2022-09-02  10017930  \n",
       "\n",
       "[908 rows x 6 columns]"
      ]
     },
     "execution_count": 8,
     "metadata": {},
     "output_type": "execute_result"
    }
   ],
   "source": [
    "instance.df"
   ]
  },
  {
   "cell_type": "code",
   "execution_count": 9,
   "id": "e65fe7db",
   "metadata": {},
   "outputs": [
    {
     "data": {
      "text/plain": [
       "'SBIN.NS'"
      ]
     },
     "execution_count": 9,
     "metadata": {},
     "output_type": "execute_result"
    }
   ],
   "source": [
    "instance.symbol"
   ]
  },
  {
   "cell_type": "code",
   "execution_count": null,
   "id": "c397bef1",
   "metadata": {},
   "outputs": [],
   "source": []
  }
 ],
 "metadata": {
  "kernelspec": {
   "display_name": "Python 3",
   "language": "python",
   "name": "python3"
  },
  "language_info": {
   "codemirror_mode": {
    "name": "ipython",
    "version": 3
   },
   "file_extension": ".py",
   "mimetype": "text/x-python",
   "name": "python",
   "nbconvert_exporter": "python",
   "pygments_lexer": "ipython3",
   "version": "3.9.5"
  }
 },
 "nbformat": 4,
 "nbformat_minor": 5
}
